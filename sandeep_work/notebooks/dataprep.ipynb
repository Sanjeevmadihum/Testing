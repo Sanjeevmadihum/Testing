{
 "cells": [
  {
   "cell_type": "code",
   "execution_count": 10,
   "metadata": {},
   "outputs": [],
   "source": [
    "import pandas as pd\n",
    "import numpy as np \n",
    "import yfinance as yf \n",
    "from datetime import datetime,timedelta\n",
    "import warnings \n",
    "warnings.filterwarnings('ignore')"
   ]
  },
  {
   "cell_type": "code",
   "execution_count": 2,
   "metadata": {},
   "outputs": [],
   "source": [
    "import sys  \n",
    "sys.path.append( '..')"
   ]
  },
  {
   "cell_type": "code",
   "execution_count": 3,
   "metadata": {},
   "outputs": [],
   "source": [
    "from src.stocks import download_stock"
   ]
  },
  {
   "cell_type": "code",
   "execution_count": 4,
   "metadata": {},
   "outputs": [],
   "source": [
    "data = pd.read_csv(r'C:\\Users\\sandeep\\OneDrive\\Documents\\Project\\scoring_model\\finops\\sandeep_work\\data\\sh_pf_mcap172_02Sep2024_meta.csv')"
   ]
  },
  {
   "cell_type": "code",
   "execution_count": 5,
   "metadata": {},
   "outputs": [],
   "source": [
    "test_stocks = data['symbol'].tolist()"
   ]
  },
  {
   "cell_type": "code",
   "execution_count": 11,
   "metadata": {},
   "outputs": [
    {
     "name": "stderr",
     "output_type": "stream",
     "text": [
      "[*********************100%***********************]  171 of 171 completed\n",
      "\n",
      "1 Failed download:\n",
      "['IDFC.NS']: YFPricesMissingError('$%ticker%: possibly delisted; no price data found  (1d 2021-08-02 00:00:00 -> 2024-08-01 00:00:00)')\n"
     ]
    }
   ],
   "source": [
    "enddate = datetime(2024,8,1)\n",
    "startdate = enddate-timedelta(days=3*365)\n",
    "data = download_stock(test_stocks,startdate,enddate)"
   ]
  },
  {
   "cell_type": "code",
   "execution_count": 12,
   "metadata": {},
   "outputs": [
    {
     "data": {
      "text/html": [
       "<div>\n",
       "<style scoped>\n",
       "    .dataframe tbody tr th:only-of-type {\n",
       "        vertical-align: middle;\n",
       "    }\n",
       "\n",
       "    .dataframe tbody tr th {\n",
       "        vertical-align: top;\n",
       "    }\n",
       "\n",
       "    .dataframe thead th {\n",
       "        text-align: right;\n",
       "    }\n",
       "</style>\n",
       "<table border=\"1\" class=\"dataframe\">\n",
       "  <thead>\n",
       "    <tr style=\"text-align: right;\">\n",
       "      <th>Price</th>\n",
       "      <th>date</th>\n",
       "      <th>stock</th>\n",
       "      <th>Open</th>\n",
       "      <th>High</th>\n",
       "      <th>Low</th>\n",
       "      <th>Close</th>\n",
       "      <th>Adj Close</th>\n",
       "      <th>Volume</th>\n",
       "    </tr>\n",
       "  </thead>\n",
       "  <tbody>\n",
       "    <tr>\n",
       "      <th>0</th>\n",
       "      <td>2021-08-02 00:00:00+00:00</td>\n",
       "      <td>AAVAS.NS</td>\n",
       "      <td>2550.0</td>\n",
       "      <td>2588.750000</td>\n",
       "      <td>2446.000000</td>\n",
       "      <td>2469.699951</td>\n",
       "      <td>2469.699951</td>\n",
       "      <td>91187.0</td>\n",
       "    </tr>\n",
       "    <tr>\n",
       "      <th>1</th>\n",
       "      <td>2021-08-03 00:00:00+00:00</td>\n",
       "      <td>AAVAS.NS</td>\n",
       "      <td>2490.0</td>\n",
       "      <td>2508.149902</td>\n",
       "      <td>2440.000000</td>\n",
       "      <td>2449.399902</td>\n",
       "      <td>2449.399902</td>\n",
       "      <td>73326.0</td>\n",
       "    </tr>\n",
       "    <tr>\n",
       "      <th>2</th>\n",
       "      <td>2021-08-04 00:00:00+00:00</td>\n",
       "      <td>AAVAS.NS</td>\n",
       "      <td>2469.0</td>\n",
       "      <td>2649.000000</td>\n",
       "      <td>2460.050049</td>\n",
       "      <td>2553.000000</td>\n",
       "      <td>2553.000000</td>\n",
       "      <td>712616.0</td>\n",
       "    </tr>\n",
       "    <tr>\n",
       "      <th>3</th>\n",
       "      <td>2021-08-05 00:00:00+00:00</td>\n",
       "      <td>AAVAS.NS</td>\n",
       "      <td>2565.0</td>\n",
       "      <td>2595.000000</td>\n",
       "      <td>2495.500000</td>\n",
       "      <td>2557.050049</td>\n",
       "      <td>2557.050049</td>\n",
       "      <td>95079.0</td>\n",
       "    </tr>\n",
       "    <tr>\n",
       "      <th>4</th>\n",
       "      <td>2021-08-06 00:00:00+00:00</td>\n",
       "      <td>AAVAS.NS</td>\n",
       "      <td>2569.0</td>\n",
       "      <td>2603.949951</td>\n",
       "      <td>2515.000000</td>\n",
       "      <td>2592.350098</td>\n",
       "      <td>2592.350098</td>\n",
       "      <td>91606.0</td>\n",
       "    </tr>\n",
       "  </tbody>\n",
       "</table>\n",
       "</div>"
      ],
      "text/plain": [
       "Price                      date     stock    Open         High          Low  \\\n",
       "0     2021-08-02 00:00:00+00:00  AAVAS.NS  2550.0  2588.750000  2446.000000   \n",
       "1     2021-08-03 00:00:00+00:00  AAVAS.NS  2490.0  2508.149902  2440.000000   \n",
       "2     2021-08-04 00:00:00+00:00  AAVAS.NS  2469.0  2649.000000  2460.050049   \n",
       "3     2021-08-05 00:00:00+00:00  AAVAS.NS  2565.0  2595.000000  2495.500000   \n",
       "4     2021-08-06 00:00:00+00:00  AAVAS.NS  2569.0  2603.949951  2515.000000   \n",
       "\n",
       "Price        Close    Adj Close    Volume  \n",
       "0      2469.699951  2469.699951   91187.0  \n",
       "1      2449.399902  2449.399902   73326.0  \n",
       "2      2553.000000  2553.000000  712616.0  \n",
       "3      2557.050049  2557.050049   95079.0  \n",
       "4      2592.350098  2592.350098   91606.0  "
      ]
     },
     "execution_count": 12,
     "metadata": {},
     "output_type": "execute_result"
    }
   ],
   "source": [
    "data.head()"
   ]
  },
  {
   "cell_type": "code",
   "execution_count": 13,
   "metadata": {},
   "outputs": [],
   "source": [
    "data.to_csv(r'C:\\Users\\sandeep\\OneDrive\\Documents\\Project\\scoring_model\\finops\\sandeep_work\\data\\testdata.csv')"
   ]
  },
  {
   "cell_type": "code",
   "execution_count": null,
   "metadata": {},
   "outputs": [],
   "source": []
  }
 ],
 "metadata": {
  "kernelspec": {
   "display_name": "venv",
   "language": "python",
   "name": "python3"
  },
  "language_info": {
   "codemirror_mode": {
    "name": "ipython",
    "version": 3
   },
   "file_extension": ".py",
   "mimetype": "text/x-python",
   "name": "python",
   "nbconvert_exporter": "python",
   "pygments_lexer": "ipython3",
   "version": "3.11.0"
  }
 },
 "nbformat": 4,
 "nbformat_minor": 2
}
